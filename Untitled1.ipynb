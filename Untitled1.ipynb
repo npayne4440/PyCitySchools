{
 "cells": [
  {
   "cell_type": "code",
   "execution_count": 1,
   "id": "99a72503",
   "metadata": {},
   "outputs": [],
   "source": [
    "import matplotlib.pyplot as plt\n",
    "import numpy as np"
   ]
  },
  {
   "cell_type": "code",
   "execution_count": 2,
   "id": "ab5308cf",
   "metadata": {
    "scrolled": true
   },
   "outputs": [
    {
     "data": {
      "text/plain": [
       "array([ 9,  8, 90, 85, 80, 70, 65, 55, 60, 70, 65, 50])"
      ]
     },
     "execution_count": 2,
     "metadata": {},
     "output_type": "execute_result"
    }
   ],
   "source": [
    "speed=np.array([9, 8, 90, 85, 80, 70, 65, 55, 60, 70, 65, 50])\n",
    "speed"
   ]
  },
  {
   "cell_type": "code",
   "execution_count": 8,
   "id": "18aa1903",
   "metadata": {},
   "outputs": [
    {
     "data": {
      "text/plain": [
       "array([75, 70, 90, 25, 30, 70, 35, 15, 40, 30, 35, 70])"
      ]
     },
     "execution_count": 8,
     "metadata": {},
     "output_type": "execute_result"
    }
   ],
   "source": [
    "fast=np.array([75, 70, 90, 25, 30, 70, 35, 15, 40, 30, 35, 70])\n",
    "fast"
   ]
  },
  {
   "cell_type": "code",
   "execution_count": 15,
   "id": "f9d7a396",
   "metadata": {
    "scrolled": true
   },
   "outputs": [
    {
     "data": {
      "image/png": "[encoded data removed]",
      "text/plain": [
       "<Figure size 640x480 with 1 Axes>"
      ]
     },
     "metadata": {},
     "output_type": "display_data"
    }
   ],
   "source": [
    "plt.title('Speed')\n",
    "plt.plot(speed)\n",
    "plt.show()"
   ]
  },
  {
   "cell_type": "code",
   "execution_count": 16,
   "id": "30b716d9",
   "metadata": {},
   "outputs": [],
   "source": [
    "labels = [\"humans\", \"dog\", \"cat\"]\n",
    "sizes = [220, 95, 80]\n",
    "colors = [\"red\", \"white\", \"blue\"]\n",
    "explode = (.1, 0, 0)"
   ]
  },
  {
   "cell_type": "code",
   "execution_count": 19,
   "id": "0814be98",
   "metadata": {},
   "outputs": [
    {
     "ename": "NameError",
     "evalue": "name 'explode' is not defined",
     "output_type": "error",
     "traceback": [
      "\u001b[1;31m---------------------------------------------------------------------------\u001b[0m",
      "\u001b[1;31mNameError\u001b[0m                                 Traceback (most recent call last)",
      "\u001b[1;32m~\\AppData\\Local\\Temp\\ipykernel_32940\\2210088301.py\u001b[0m in \u001b[0;36m<module>\u001b[1;34m\u001b[0m\n\u001b[1;32m----> 1\u001b[1;33m plt.pie(sizes, explode=explode, lables=lables, colors=colors,\n\u001b[0m\u001b[0;32m      2\u001b[0m         autopct=\"%1.1f%%\", shadow=true, startangle=140)\n",
      "\u001b[1;31mNameError\u001b[0m: name 'explode' is not defined"
     ]
    }
   ],
   "source": [
    "plt.pie(sizes, explode=explode, lables=lables, colors=colors,\n",
    "        autopct=\"%1.1f%%\", shadow=true, startangle=140)"
   ]
  },
  {
   "cell_type": "code",
   "execution_count": null,
   "id": "8e70077b",
   "metadata": {},
   "outputs": [],
   "source": []
  }
 ],
 "metadata": {
  "kernelspec": {
   "display_name": "Python 3 (ipykernel)",
   "language": "python",
   "name": "python3"
  },
  "language_info": {
   "codemirror_mode": {
    "name": "ipython",
    "version": 3
   },
   "file_extension": ".py",
   "mimetype": "text/x-python",
   "name": "python",
   "nbconvert_exporter": "python",
   "pygments_lexer": "ipython3",
   "version": "3.9.13"
  }
 },
 "nbformat": 4,
 "nbformat_minor": 5
}
